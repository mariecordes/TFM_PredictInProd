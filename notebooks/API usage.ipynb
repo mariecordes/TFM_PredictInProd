{
 "cells": [
  {
   "cell_type": "code",
   "execution_count": 1,
   "metadata": {},
   "outputs": [
    {
     "name": "stdout",
     "output_type": "stream",
     "text": [
      "API call success\n"
     ]
    },
    {
     "data": {
      "text/plain": [
       "(200, 28.0697329661755, {'prediction': 28.0697329661755})"
      ]
     },
     "execution_count": 1,
     "metadata": {},
     "output_type": "execute_result"
    }
   ],
   "source": [
    "# challenge 1\n",
    "\n",
    "import requests\n",
    "\n",
    "# fill the parameters for the prediction\n",
    "params = dict(\n",
    "  pickup_datetime='2012-10-06 12:10:20',\n",
    "  pickup_longitude=40.7614327,\n",
    "  pickup_latitude=-73.9798156,\n",
    "  dropoff_longitude=40.6413111,\n",
    "  dropoff_latitude=-73.9797156,\n",
    "  passenger_count=1\n",
    ")\n",
    "\n",
    "params = dict(\n",
    "  pickup_datetime='2012-10-06 12:10:20',\n",
    "  pickup_longitude=40.7614327,\n",
    "  pickup_latitude=-73.9798156,\n",
    "  dropoff_longitude=40.6331166,\n",
    "  dropoff_latitude=-73.8874078,    \n",
    "  passenger_count=2\n",
    ")\n",
    "\n",
    "# URL\n",
    "taxifare_api_url = \"http://127.0.0.1:8000/predict\"\n",
    "\n",
    "# retrieve the response\n",
    "response = requests.get(\n",
    "    taxifare_api_url,\n",
    "    params=params\n",
    ")\n",
    "\n",
    "if response.status_code == 200:\n",
    "    print(\"API call success\")\n",
    "else:\n",
    "    print(\"API call error\")\n",
    "\n",
    "response.status_code, response.json().get(\"prediction\", \"no prediction\"), response.json()\n"
   ]
  },
  {
   "cell_type": "code",
   "execution_count": 2,
   "metadata": {},
   "outputs": [
    {
     "name": "stdout",
     "output_type": "stream",
     "text": [
      "{'detail': [{'loc': ['query', 'pickup_datetime'], 'msg': 'field required', 'type': 'value_error.missing'}, {'loc': ['query', 'pickup_longitude'], 'msg': 'field required', 'type': 'value_error.missing'}, {'loc': ['query', 'pickup_latitude'], 'msg': 'field required', 'type': 'value_error.missing'}, {'loc': ['query', 'dropoff_longitude'], 'msg': 'field required', 'type': 'value_error.missing'}, {'loc': ['query', 'dropoff_latitude'], 'msg': 'field required', 'type': 'value_error.missing'}, {'loc': ['query', 'passenger_count'], 'msg': 'field required', 'type': 'value_error.missing'}]}\n"
     ]
    }
   ],
   "source": [
    "# challenge 2\n",
    "import requests\n",
    "\n",
    "taxifare_api_url = \"http://127.0.0.1:8000/predict?FILL&THE&PARAMS&HERE\"\n",
    "\n",
    "response = requests.get(taxifare_api_url).json()\n",
    "\n",
    "print(response)"
   ]
  },
  {
   "cell_type": "code",
   "execution_count": null,
   "metadata": {},
   "outputs": [],
   "source": []
  }
 ],
 "metadata": {
  "kernelspec": {
   "display_name": "Python 3",
   "language": "python",
   "name": "python3"
  },
  "language_info": {
   "codemirror_mode": {
    "name": "ipython",
    "version": 3
   },
   "file_extension": ".py",
   "mimetype": "text/x-python",
   "name": "python",
   "nbconvert_exporter": "python",
   "pygments_lexer": "ipython3",
   "version": "3.8.12"
  }
 },
 "nbformat": 4,
 "nbformat_minor": 4
}
